{
 "cells": [
  {
   "cell_type": "markdown",
   "metadata": {},
   "source": [
    "Enunciado 1:"
   ]
  },
  {
   "cell_type": "code",
   "execution_count": 13,
   "metadata": {},
   "outputs": [
    {
     "name": "stdout",
     "output_type": "stream",
     "text": [
      "Index(['lat', 'lng', 'gid', 'entidad', 'objeto', 'fna', 'gna', 'nam', 'tap',\n",
      "       'jap', 'caa', 'fdc', 'sag', 'area'],\n",
      "      dtype='object')\n",
      "                                   nam                                 gna\n",
      "0  Costa Atlántica de Tierra del Fuego  Sitio RAMSAR y Reserva Hemisférica\n",
      "1                            La Calera       Reserva Natural de la Defensa\n",
      "2                     Delta del Parana                        Sitio Ramsar\n",
      "3              Lote C Huerto Municipal            Parque Natural Municipal\n",
      "4                  Cumbres Calchaquíes                   Parque Provincial\n"
     ]
    }
   ],
   "source": [
    "import pandas as pd\n",
    "areas = pd.read_csv('area_protegida.csv')\n",
    "print(areas.columns)\n",
    "print(areas[['nam','gna']].head())"
   ]
  },
  {
   "cell_type": "code",
   "execution_count": 36,
   "metadata": {},
   "outputs": [
    {
     "name": "stdout",
     "output_type": "stream",
     "text": [
      "El tiempo de ejecución es: 0.01678919792175293 segundos\n",
      "Index(['lat', 'lng', 'gid', 'entidad', 'objeto', 'fna', 'gna', 'nam', 'tap',\n",
      "       'jap', 'caa', 'fdc', 'sag', 'area', 'Nombre y ref'],\n",
      "      dtype='object')\n",
      "                                        Nombre y ref\n",
      "0  Costa Atlántica de Tierra del Fuego-Sitio RAMS...\n",
      "1            La Calera-Reserva Natural de la Defensa\n",
      "2                      Delta del Parana-Sitio Ramsar\n",
      "3   Lote C Huerto Municipal-Parque Natural Municipal\n",
      "4              Cumbres Calchaquíes-Parque Provincial\n"
     ]
    }
   ],
   "source": [
    "import time\n",
    "start_time = time.time()\n",
    "for index, row in areas.iterrows():\n",
    "    areas.at[index, 'Nombre y ref'] = row['nam'] + '-'+ row['gna']\n",
    "\n",
    "end_time = time.time()\n",
    "\n",
    "elapsed_time = end_time - start_time\n",
    "print(f\"El tiempo de ejecución es: {elapsed_time} segundos\")\n",
    "print(areas.columns)\n",
    "print(areas[['Nombre y ref']].head())"
   ]
  },
  {
   "cell_type": "markdown",
   "metadata": {},
   "source": [
    "-El código importa pandas como **pd** <br>\n",
    "-Con pd lee un csv y lo guarda en el dataframe **areas**\n",
    "\n",
    "-Se itera con un for en el df areas, tomando **índice** y **fila** <br>\n",
    "-Se utiliza **areas.at** para posicionarse en un índice y columna específicos del df <br>\n",
    "y actualiza su valor, con elementos de la fila obtenida en cada iteración\n"
   ]
  },
  {
   "cell_type": "markdown",
   "metadata": {},
   "source": [
    "**Se puede mejorar con:**"
   ]
  },
  {
   "cell_type": "code",
   "execution_count": 38,
   "metadata": {},
   "outputs": [
    {
     "name": "stdout",
     "output_type": "stream",
     "text": [
      "El tiempo de ejecución es: 0.0009906291961669922 segundos\n",
      "Index(['lat', 'lng', 'gid', 'entidad', 'objeto', 'fna', 'gna', 'nam', 'tap',\n",
      "       'jap', 'caa', 'fdc', 'sag', 'area', 'Nombre y ref'],\n",
      "      dtype='object')\n",
      "                                        Nombre y ref\n",
      "0  Costa Atlántica de Tierra del Fuego-Sitio RAMS...\n",
      "1            La Calera-Reserva Natural de la Defensa\n",
      "2                      Delta del Parana-Sitio Ramsar\n",
      "3   Lote C Huerto Municipal-Parque Natural Municipal\n",
      "4              Cumbres Calchaquíes-Parque Provincial\n"
     ]
    }
   ],
   "source": [
    "import time\n",
    "start_time = time.time()\n",
    "areas['Nombre y ref'] = areas['nam'] + '-' + areas['gna']\n",
    "end_time = time.time()\n",
    "\n",
    "elapsed_time = end_time - start_time\n",
    "print(f\"El tiempo de ejecución es: {elapsed_time} segundos\")\n",
    "print(areas.columns)\n",
    "print(areas[['Nombre y ref']].head())"
   ]
  },
  {
   "cell_type": "markdown",
   "metadata": {},
   "source": [
    "-Es mas eficiente, mas claro y menos propenso a errores.<br><br>\n",
    "**Por qué?** <br><br>\n",
    "*Eficiente (en tiempo):* porque en la anterior se itera secuencialmente con python, mientras que **Pandas** utiliza internamente<br>\n",
    "**C/Fortran** y **Numpy** para iterar de forma mas eficiente, \"se aplica la operacion a todo un bloque de datos\"<br>\n",
    "Tambien **.at** es una funcion extra que se aplica y afecta en el tiempo<br><br>\n",
    "*Menos propenso a errores:* porque si no se conoce como funciona **.iterrows()** podria dar problemas, este devuelve copias de las filas, si se intenta actualizar esas copias no se reflejaria en el df original.<br><br>\n",
    "*Mas claro:* porque se puede ver mas directamente que se modifica y con que valores\n"
   ]
  }
 ],
 "metadata": {
  "kernelspec": {
   "display_name": "Python 3",
   "language": "python",
   "name": "python3"
  },
  "language_info": {
   "codemirror_mode": {
    "name": "ipython",
    "version": 3
   },
   "file_extension": ".py",
   "mimetype": "text/x-python",
   "name": "python",
   "nbconvert_exporter": "python",
   "pygments_lexer": "ipython3",
   "version": "3.11.1"
  }
 },
 "nbformat": 4,
 "nbformat_minor": 2
}
